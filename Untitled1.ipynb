{
  "nbformat": 4,
  "nbformat_minor": 0,
  "metadata": {
    "colab": {
      "provenance": [],
      "authorship_tag": "ABX9TyOVdsBCvqQjkzlU0KVxZeEM",
      "include_colab_link": true
    },
    "kernelspec": {
      "name": "python3",
      "display_name": "Python 3"
    },
    "language_info": {
      "name": "python"
    }
  },
  "cells": [
    {
      "cell_type": "markdown",
      "metadata": {
        "id": "view-in-github",
        "colab_type": "text"
      },
      "source": [
        "<a href=\"https://colab.research.google.com/github/devskvotcher/PTLab4/blob/main/Untitled1.ipynb\" target=\"_parent\"><img src=\"https://colab.research.google.com/assets/colab-badge.svg\" alt=\"Open In Colab\"/></a>"
      ]
    },
    {
      "cell_type": "code",
      "execution_count": 11,
      "metadata": {
        "colab": {
          "base_uri": "https://localhost:8080/"
        },
        "id": "Ct7nljmtpR1K",
        "outputId": "fc4133ad-bb65-4188-a901-9ba7fa53c8dc"
      },
      "outputs": [
        {
          "output_type": "stream",
          "name": "stdout",
          "text": [
            "Matrix M:\n",
            "[[  3   2   2 ...   2   2   2]\n",
            " [  2   5   2 ...   2   2   2]\n",
            " [  2   2   7 ...   2   2   2]\n",
            " ...\n",
            " [  2   2   2 ... 167   2   2]\n",
            " [  2   2   2 ...   2 169   2]\n",
            " [  2   2   2 ...   2   2 171]]\n",
            "\n",
            "Matrix N:\n",
            "[[4 4 5 ... 4 5 4]\n",
            " [4 7 4 ... 4 7 4]\n",
            " [4 4 5 ... 4 5 4]\n",
            " ...\n",
            " [4 4 5 ... 4 5 4]\n",
            " [4 7 4 ... 4 7 4]\n",
            " [4 4 5 ... 4 5 4]]\n",
            "\n",
            "Vector p:\n",
            "[ 5.73726312  1.07015308  4.37210292  5.11684897 -0.51747897  0.63348297\n",
            " -1.07846436  2.46118633  4.43508451  6.0047141   3.14818956  6.25723109\n",
            "  0.23979708 -0.40676488  2.8889046   3.7681309   2.9346105  -1.1348842\n",
            "  2.82175992  0.391061    4.3393451   3.73319649  1.12024043  1.97226617\n",
            "  0.88157296  2.87464181  4.91028464  1.02854791  4.00809303  1.93948476\n",
            "  1.41425434  2.78593928  0.92951536  1.89270139  0.60424421  6.92945027\n",
            "  3.0705271   1.60054898  3.42795982  2.7753439   2.5580608   4.2283334\n",
            "  4.51501542  1.9389977   1.84836352  2.44989661 -1.60384233 -0.03038212\n",
            "  5.73374853  6.28993543  2.50192792  4.15311393  3.62250031  9.15776162\n",
            "  5.23914982  2.74416482  1.08891912 -0.21289264  3.40692727  1.48729851\n",
            "  0.15549258  1.70685423  0.83690399  6.37428327  4.76327951  2.98405472\n",
            "  5.95988828  3.15473662  1.2774316   6.04624815  4.07782009  0.92550769\n",
            "  2.61932264  1.24876349  0.23440054  4.8523551   6.81883328  0.20286485\n",
            "  4.12593847  1.69871486  2.02574923  1.81521215  1.27201846  3.09704326\n",
            "  1.33809977]\n",
            "\n",
            "Vector q:\n",
            "[16 28 20 28 16 35 16 28 20 28 16 35 16 28 20 28 16 35 16 28 20 28 16 35\n",
            " 16 28 20 28 16 35 16 28 20 28 16 35 16 28 20 28 16 35 16 28 20 28 16 35\n",
            " 16 28 20 28 16 35 16 28 20 28 16 35 16 28 20 28 16 35 16 28 20 28 16 35\n",
            " 16 28 20 28 16 35 16 28 20 28 16 35 16]\n"
          ]
        }
      ],
      "source": [
        "import numpy as np\n",
        "size = 85\n",
        "# Матрица M\n",
        "M = 2 * np.ones((size, size), dtype=int)\n",
        "np.fill_diagonal(M, 2*np.arange(size) + 3)\n",
        "\n",
        "# Матрица N\n",
        "N = np.zeros((size, size), dtype=int)\n",
        "\n",
        "# Четные строки: 4 4 5 4 4 5 4 ...\n",
        "N[::2, :] = 4\n",
        "N[::2, 2::3] = 5\n",
        "\n",
        "# Нечетные строки: 4 7 4 7 4 7 4 ...\n",
        "N[1::2, :] = 4\n",
        "N[1::2, 1::2] = 7\n",
        "\n",
        "# p = {1 + pi: pi ∼ N (2, 4)}\n",
        "mean, std_dev = 2, 2  # Среднее значение и стандартное отклонение\n",
        "p = 1 + np.random.normal(loc=mean, scale=std_dev, size=size)\n",
        "\n",
        "# q^T = {N24,j ⊙ N71,j}\n",
        "q = np.multiply(N[24, :size], N[71, :size])  # Поэлементное умножение\n",
        "\n",
        "# Печатаем или используем созданные структуры данных дальше в вашем коде\n",
        "print(\"Matrix M:\")\n",
        "print(M)\n",
        "print(\"\\nMatrix N:\")\n",
        "print(N)\n",
        "print(\"\\nVector p:\")\n",
        "print(p)\n",
        "print(\"\\nVector q:\")\n",
        "print(q)\n",
        "\n",
        "\n"
      ]
    },
    {
      "cell_type": "code",
      "source": [
        "# Вычисляем f\n",
        "f = np.linalg.det(np.outer(q, q**2).T)\n",
        "\n",
        "# Вычисляем g\n",
        "diagonal_M = np.diagonal(M)\n",
        "diagonal_N = np.diagonal(N)\n",
        "g_vector = diagonal_M - diagonal_N + (q**2) * q  # element-wise multiplication\n",
        "g = np.linalg.norm(g_vector, ord=2)  # L2 norm\n",
        "\n",
        "print(\"Value of f:\", f)\n",
        "print(\"Value of g:\", g)"
      ],
      "metadata": {
        "colab": {
          "base_uri": "https://localhost:8080/"
        },
        "id": "iGlyS2i8pwgu",
        "outputId": "77cb4ce9-358b-4fac-8281-20ea6bb1848b"
      },
      "execution_count": 12,
      "outputs": [
        {
          "output_type": "stream",
          "name": "stdout",
          "text": [
            "Value of f: 0.0\n",
            "Value of g: 202105.29393115858\n"
          ]
        }
      ]
    }
  ]
}